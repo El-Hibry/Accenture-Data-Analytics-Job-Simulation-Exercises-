{
 "cells": [
  {
   "cell_type": "code",
   "execution_count": 15,
   "id": "8a1536cc",
   "metadata": {},
   "outputs": [],
   "source": [
    "#import Relevant packages \n",
    "import pandas as pd"
   ]
  },
  {
   "cell_type": "code",
   "execution_count": 16,
   "id": "fa0239cc",
   "metadata": {},
   "outputs": [
    {
     "data": {
      "text/html": [
       "<div>\n",
       "<style scoped>\n",
       "    .dataframe tbody tr th:only-of-type {\n",
       "        vertical-align: middle;\n",
       "    }\n",
       "\n",
       "    .dataframe tbody tr th {\n",
       "        vertical-align: top;\n",
       "    }\n",
       "\n",
       "    .dataframe thead th {\n",
       "        text-align: right;\n",
       "    }\n",
       "</style>\n",
       "<table border=\"1\" class=\"dataframe\">\n",
       "  <thead>\n",
       "    <tr style=\"text-align: right;\">\n",
       "      <th></th>\n",
       "      <th>Unnamed: 0</th>\n",
       "      <th>Content ID</th>\n",
       "      <th>User ID</th>\n",
       "      <th>Type</th>\n",
       "      <th>Category</th>\n",
       "      <th>URL</th>\n",
       "    </tr>\n",
       "  </thead>\n",
       "  <tbody>\n",
       "    <tr>\n",
       "      <th>0</th>\n",
       "      <td>0</td>\n",
       "      <td>97522e57-d9ab-4bd6-97bf-c24d952602d2</td>\n",
       "      <td>8d3cd87d-8a31-4935-9a4f-b319bfe05f31</td>\n",
       "      <td>photo</td>\n",
       "      <td>Studying</td>\n",
       "      <td>https://socialbuzz.cdn.com/content/storage/975...</td>\n",
       "    </tr>\n",
       "    <tr>\n",
       "      <th>1</th>\n",
       "      <td>1</td>\n",
       "      <td>9f737e0a-3cdd-4d29-9d24-753f4e3be810</td>\n",
       "      <td>beb1f34e-7870-46d6-9fc7-2e12eb83ce43</td>\n",
       "      <td>photo</td>\n",
       "      <td>healthy eating</td>\n",
       "      <td>https://socialbuzz.cdn.com/content/storage/9f7...</td>\n",
       "    </tr>\n",
       "    <tr>\n",
       "      <th>2</th>\n",
       "      <td>2</td>\n",
       "      <td>230c4e4d-70c3-461d-b42c-ec09396efb3f</td>\n",
       "      <td>a5c65404-5894-4b87-82f2-d787cbee86b4</td>\n",
       "      <td>photo</td>\n",
       "      <td>healthy eating</td>\n",
       "      <td>https://socialbuzz.cdn.com/content/storage/230...</td>\n",
       "    </tr>\n",
       "    <tr>\n",
       "      <th>3</th>\n",
       "      <td>3</td>\n",
       "      <td>356fff80-da4d-4785-9f43-bc1261031dc6</td>\n",
       "      <td>9fb4ce88-fac1-406c-8544-1a899cee7aaf</td>\n",
       "      <td>photo</td>\n",
       "      <td>technology</td>\n",
       "      <td>https://socialbuzz.cdn.com/content/storage/356...</td>\n",
       "    </tr>\n",
       "    <tr>\n",
       "      <th>4</th>\n",
       "      <td>4</td>\n",
       "      <td>01ab84dd-6364-4236-abbb-3f237db77180</td>\n",
       "      <td>e206e31b-5f85-4964-b6ea-d7ee5324def1</td>\n",
       "      <td>video</td>\n",
       "      <td>food</td>\n",
       "      <td>https://socialbuzz.cdn.com/content/storage/01a...</td>\n",
       "    </tr>\n",
       "  </tbody>\n",
       "</table>\n",
       "</div>"
      ],
      "text/plain": [
       "   Unnamed: 0                            Content ID  \\\n",
       "0           0  97522e57-d9ab-4bd6-97bf-c24d952602d2   \n",
       "1           1  9f737e0a-3cdd-4d29-9d24-753f4e3be810   \n",
       "2           2  230c4e4d-70c3-461d-b42c-ec09396efb3f   \n",
       "3           3  356fff80-da4d-4785-9f43-bc1261031dc6   \n",
       "4           4  01ab84dd-6364-4236-abbb-3f237db77180   \n",
       "\n",
       "                                User ID   Type        Category  \\\n",
       "0  8d3cd87d-8a31-4935-9a4f-b319bfe05f31  photo        Studying   \n",
       "1  beb1f34e-7870-46d6-9fc7-2e12eb83ce43  photo  healthy eating   \n",
       "2  a5c65404-5894-4b87-82f2-d787cbee86b4  photo  healthy eating   \n",
       "3  9fb4ce88-fac1-406c-8544-1a899cee7aaf  photo      technology   \n",
       "4  e206e31b-5f85-4964-b6ea-d7ee5324def1  video            food   \n",
       "\n",
       "                                                 URL  \n",
       "0  https://socialbuzz.cdn.com/content/storage/975...  \n",
       "1  https://socialbuzz.cdn.com/content/storage/9f7...  \n",
       "2  https://socialbuzz.cdn.com/content/storage/230...  \n",
       "3  https://socialbuzz.cdn.com/content/storage/356...  \n",
       "4  https://socialbuzz.cdn.com/content/storage/01a...  "
      ]
     },
     "execution_count": 16,
     "metadata": {},
     "output_type": "execute_result"
    }
   ],
   "source": [
    "# load the Contents data sets\n",
    "content = pd.read_csv(\"Content.csv\")\n",
    "\n",
    "# check the head of the data set\n",
    "content.head()"
   ]
  },
  {
   "cell_type": "markdown",
   "id": "f9e9684e",
   "metadata": {},
   "source": [
    "Before we proceed with our Cleaning , we can see that our data contained 6 columns, some of which are irrelevant to our analysis below are the Explaination of each column; \n",
    "\n",
    "* Unnamed: 0 : This column should be dropped as it is the index that came with our file and python read it as a column and has ssigned a new index for our datas.\n",
    "\n",
    "* Content ID: this is Useful in our Analysis as it Contained the unique ID for our content , and remember we are to Determine the Top 5 most Popular content, Hence, this Column should be kept.\n",
    "\n",
    "* User ID : This column is irrelevant to our analysis it contain the ID for each user , but we are *NOT* to determine Top 5 most popular cateegory based on User, Hence this column should be drop.\n",
    "\n",
    "* Type : This column contain The type of Contents we are go to do our Analysis on , so it should be Kept, But we need to change its name To \"Content Type\" To avoid Confusion.\n",
    "\n",
    "* Category : This Column is Very useful for our Analysis as it's the category of each Content Type, Hence should be kept.\n",
    "\n",
    "\n",
    "* URL : This Column is the link to social Site of The Company we are Conducting Analysis for and where the contents are stored , Nevertheless, It is Irrelevant for our Analysis and should be drop."
   ]
  },
  {
   "cell_type": "code",
   "execution_count": 17,
   "id": "000f3e67",
   "metadata": {},
   "outputs": [
    {
     "data": {
      "text/html": [
       "<div>\n",
       "<style scoped>\n",
       "    .dataframe tbody tr th:only-of-type {\n",
       "        vertical-align: middle;\n",
       "    }\n",
       "\n",
       "    .dataframe tbody tr th {\n",
       "        vertical-align: top;\n",
       "    }\n",
       "\n",
       "    .dataframe thead th {\n",
       "        text-align: right;\n",
       "    }\n",
       "</style>\n",
       "<table border=\"1\" class=\"dataframe\">\n",
       "  <thead>\n",
       "    <tr style=\"text-align: right;\">\n",
       "      <th></th>\n",
       "      <th>Content ID</th>\n",
       "      <th>Content Type</th>\n",
       "      <th>Category</th>\n",
       "    </tr>\n",
       "  </thead>\n",
       "  <tbody>\n",
       "    <tr>\n",
       "      <th>0</th>\n",
       "      <td>97522e57-d9ab-4bd6-97bf-c24d952602d2</td>\n",
       "      <td>photo</td>\n",
       "      <td>Studying</td>\n",
       "    </tr>\n",
       "    <tr>\n",
       "      <th>1</th>\n",
       "      <td>9f737e0a-3cdd-4d29-9d24-753f4e3be810</td>\n",
       "      <td>photo</td>\n",
       "      <td>healthy eating</td>\n",
       "    </tr>\n",
       "    <tr>\n",
       "      <th>2</th>\n",
       "      <td>230c4e4d-70c3-461d-b42c-ec09396efb3f</td>\n",
       "      <td>photo</td>\n",
       "      <td>healthy eating</td>\n",
       "    </tr>\n",
       "    <tr>\n",
       "      <th>3</th>\n",
       "      <td>356fff80-da4d-4785-9f43-bc1261031dc6</td>\n",
       "      <td>photo</td>\n",
       "      <td>technology</td>\n",
       "    </tr>\n",
       "    <tr>\n",
       "      <th>4</th>\n",
       "      <td>01ab84dd-6364-4236-abbb-3f237db77180</td>\n",
       "      <td>video</td>\n",
       "      <td>food</td>\n",
       "    </tr>\n",
       "  </tbody>\n",
       "</table>\n",
       "</div>"
      ],
      "text/plain": [
       "                             Content ID Content Type        Category\n",
       "0  97522e57-d9ab-4bd6-97bf-c24d952602d2        photo        Studying\n",
       "1  9f737e0a-3cdd-4d29-9d24-753f4e3be810        photo  healthy eating\n",
       "2  230c4e4d-70c3-461d-b42c-ec09396efb3f        photo  healthy eating\n",
       "3  356fff80-da4d-4785-9f43-bc1261031dc6        photo      technology\n",
       "4  01ab84dd-6364-4236-abbb-3f237db77180        video            food"
      ]
     },
     "execution_count": 17,
     "metadata": {},
     "output_type": "execute_result"
    }
   ],
   "source": [
    "# Drop irrelevant Columns.\n",
    "\n",
    "content.drop([\"Unnamed: 0\",\"User ID\", \"URL\"], axis = 1, inplace = True)\n",
    "\n",
    "# Change the the name of \"Type\" column to \"Content Type\"\n",
    "\n",
    "content.rename(columns= {\"Type\":\"Content Type\"},inplace=True)\n",
    "\n",
    "# Check the head of our file\n",
    "content.head()\n"
   ]
  },
  {
   "cell_type": "markdown",
   "id": "bc099439",
   "metadata": {},
   "source": [
    "That's Cool, The next is to check for missing values in our data set and drop them if any ."
   ]
  },
  {
   "cell_type": "code",
   "execution_count": 18,
   "id": "63fb3bdb",
   "metadata": {},
   "outputs": [
    {
     "data": {
      "text/plain": [
       "Content ID      0\n",
       "Content Type    0\n",
       "Category        0\n",
       "dtype: int64"
      ]
     },
     "execution_count": 18,
     "metadata": {},
     "output_type": "execute_result"
    }
   ],
   "source": [
    "# Check for missing values and arrange them in ascending other \n",
    "content.isna().sum().sort_values()"
   ]
  },
  {
   "cell_type": "markdown",
   "id": "9cf9075e",
   "metadata": {},
   "source": [
    "As we can see our content doesn\"t have any missing Values. Cool right?, OK,\n",
    "\n",
    "Let's Check \"Content Type\"  and \"Category\" Columns value counts "
   ]
  },
  {
   "cell_type": "code",
   "execution_count": 21,
   "id": "5c9da156",
   "metadata": {},
   "outputs": [
    {
     "data": {
      "text/plain": [
       "photo    261\n",
       "video    259\n",
       "GIF      244\n",
       "audio    236\n",
       "Name: Content Type, dtype: int64"
      ]
     },
     "execution_count": 21,
     "metadata": {},
     "output_type": "execute_result"
    }
   ],
   "source": [
    "# Check the value counts for Content Type \n",
    "\n",
    "content[\"Content Type\"].value_counts()"
   ]
  },
  {
   "cell_type": "markdown",
   "id": "744387e3",
   "metadata": {},
   "source": [
    "That's Nice \"Content Type\" Has four types, we have contents that are\n",
    "\n",
    "* photo to be 261, \n",
    "\n",
    "* video 259 , \n",
    "\n",
    "* GIF 244 , and\n",
    "\n",
    "* audio 236  and they are all well structured.\n",
    "\n",
    "Let's proceed to \"Category\" Column"
   ]
  },
  {
   "cell_type": "code",
   "execution_count": 22,
   "id": "37b329c1",
   "metadata": {},
   "outputs": [
    {
     "data": {
      "text/plain": [
       "technology           71\n",
       "animals              67\n",
       "travel               67\n",
       "culture              63\n",
       "science              63\n",
       "fitness              61\n",
       "food                 61\n",
       "healthy eating       61\n",
       "cooking              60\n",
       "soccer               58\n",
       "tennis               58\n",
       "education            57\n",
       "dogs                 56\n",
       "studying             55\n",
       "veganism             48\n",
       "public speaking      48\n",
       "Fitness               5\n",
       "Animals               4\n",
       "Science               4\n",
       "\"soccer\"              3\n",
       "\"culture\"             3\n",
       "Soccer                3\n",
       "\"dogs\"                2\n",
       "Education             2\n",
       "Studying              2\n",
       "Travel                2\n",
       "Food                  2\n",
       "\"veganism\"            1\n",
       "\"public speaking\"     1\n",
       "Public Speaking       1\n",
       "\"technology\"          1\n",
       "\"cooking\"             1\n",
       "Healthy Eating        1\n",
       "\"studying\"            1\n",
       "\"food\"                1\n",
       "Culture               1\n",
       "\"tennis\"              1\n",
       "Technology            1\n",
       "\"animals\"             1\n",
       "Veganism              1\n",
       "\"science\"             1\n",
       "Name: Category, dtype: int64"
      ]
     },
     "execution_count": 22,
     "metadata": {},
     "output_type": "execute_result"
    }
   ],
   "source": [
    "# check the value counts for Category column\n",
    "\n",
    "content[\"Category\"].value_counts()"
   ]
  },
  {
   "cell_type": "markdown",
   "id": "22129d97",
   "metadata": {},
   "source": [
    "Woow!, This is whole lot, we can see the \"Category\" column isn't well Structured and it needs the folowing cleanings to be perfom on it:\n",
    "\n",
    "* Removing all punctuations \n",
    "\n",
    "* ensuring all categories start with the same case(lower or upper). i.e removing capitalization.\n",
    "\n",
    "All this can be done at a go with .apply() method and lambda function"
   ]
  },
  {
   "cell_type": "code",
   "execution_count": 23,
   "id": "2f656573",
   "metadata": {},
   "outputs": [
    {
     "data": {
      "text/plain": [
       "technology         73\n",
       "animals            72\n",
       "travel             69\n",
       "science            68\n",
       "culture            67\n",
       "fitness            66\n",
       "food               64\n",
       "soccer             64\n",
       "healthy eating     62\n",
       "cooking            61\n",
       "tennis             59\n",
       "education          59\n",
       "studying           58\n",
       "dogs               58\n",
       "public speaking    50\n",
       "veganism           50\n",
       "Name: Category, dtype: int64"
      ]
     },
     "execution_count": 23,
     "metadata": {},
     "output_type": "execute_result"
    }
   ],
   "source": [
    "# Clean the Category column \n",
    "content['Category'] = content['Category'].apply(lambda x:x.strip('\"').lower())\n",
    "\n",
    "# Check the value counts of the Category column again\n",
    "content[\"Category\"].value_counts()"
   ]
  },
  {
   "cell_type": "markdown",
   "id": "1c58a6a1",
   "metadata": {},
   "source": [
    "Looks, like our Content file is cleaned \n",
    "\n",
    "Let's save it as a csv file \n",
    "\n"
   ]
  },
  {
   "cell_type": "code",
   "execution_count": 24,
   "id": "86f41588",
   "metadata": {},
   "outputs": [],
   "source": [
    "# save the content file as csv\n",
    "\n",
    "content.to_csv(\"Cleaned Content.csv\")"
   ]
  },
  {
   "cell_type": "code",
   "execution_count": null,
   "id": "bb1535c4",
   "metadata": {},
   "outputs": [],
   "source": []
  }
 ],
 "metadata": {
  "kernelspec": {
   "display_name": "Python 3 (ipykernel)",
   "language": "python",
   "name": "python3"
  },
  "language_info": {
   "codemirror_mode": {
    "name": "ipython",
    "version": 3
   },
   "file_extension": ".py",
   "mimetype": "text/x-python",
   "name": "python",
   "nbconvert_exporter": "python",
   "pygments_lexer": "ipython3",
   "version": "3.11.3"
  }
 },
 "nbformat": 4,
 "nbformat_minor": 5
}
