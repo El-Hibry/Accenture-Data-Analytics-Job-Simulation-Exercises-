{
 "cells": [
  {
   "cell_type": "code",
   "execution_count": 1,
   "id": "48693e90",
   "metadata": {},
   "outputs": [],
   "source": [
    "#import Relevant packages \n",
    "import pandas as pd"
   ]
  },
  {
   "cell_type": "code",
   "execution_count": 4,
   "id": "35f4306f",
   "metadata": {},
   "outputs": [
    {
     "data": {
      "text/html": [
       "<div>\n",
       "<style scoped>\n",
       "    .dataframe tbody tr th:only-of-type {\n",
       "        vertical-align: middle;\n",
       "    }\n",
       "\n",
       "    .dataframe tbody tr th {\n",
       "        vertical-align: top;\n",
       "    }\n",
       "\n",
       "    .dataframe thead th {\n",
       "        text-align: right;\n",
       "    }\n",
       "</style>\n",
       "<table border=\"1\" class=\"dataframe\">\n",
       "  <thead>\n",
       "    <tr style=\"text-align: right;\">\n",
       "      <th></th>\n",
       "      <th>Unnamed: 0</th>\n",
       "      <th>Content ID</th>\n",
       "      <th>User ID</th>\n",
       "      <th>Type</th>\n",
       "      <th>Datetime</th>\n",
       "    </tr>\n",
       "  </thead>\n",
       "  <tbody>\n",
       "    <tr>\n",
       "      <th>0</th>\n",
       "      <td>0</td>\n",
       "      <td>97522e57-d9ab-4bd6-97bf-c24d952602d2</td>\n",
       "      <td>NaN</td>\n",
       "      <td>NaN</td>\n",
       "      <td>2021-04-22 15:17:15</td>\n",
       "    </tr>\n",
       "    <tr>\n",
       "      <th>1</th>\n",
       "      <td>1</td>\n",
       "      <td>97522e57-d9ab-4bd6-97bf-c24d952602d2</td>\n",
       "      <td>5d454588-283d-459d-915d-c48a2cb4c27f</td>\n",
       "      <td>disgust</td>\n",
       "      <td>2020-11-07 09:43:50</td>\n",
       "    </tr>\n",
       "    <tr>\n",
       "      <th>2</th>\n",
       "      <td>2</td>\n",
       "      <td>97522e57-d9ab-4bd6-97bf-c24d952602d2</td>\n",
       "      <td>92b87fa5-f271-43e0-af66-84fac21052e6</td>\n",
       "      <td>dislike</td>\n",
       "      <td>2021-06-17 12:22:51</td>\n",
       "    </tr>\n",
       "    <tr>\n",
       "      <th>3</th>\n",
       "      <td>3</td>\n",
       "      <td>97522e57-d9ab-4bd6-97bf-c24d952602d2</td>\n",
       "      <td>163daa38-8b77-48c9-9af6-37a6c1447ac2</td>\n",
       "      <td>scared</td>\n",
       "      <td>2021-04-18 05:13:58</td>\n",
       "    </tr>\n",
       "    <tr>\n",
       "      <th>4</th>\n",
       "      <td>4</td>\n",
       "      <td>97522e57-d9ab-4bd6-97bf-c24d952602d2</td>\n",
       "      <td>34e8add9-0206-47fd-a501-037b994650a2</td>\n",
       "      <td>disgust</td>\n",
       "      <td>2021-01-06 19:13:01</td>\n",
       "    </tr>\n",
       "  </tbody>\n",
       "</table>\n",
       "</div>"
      ],
      "text/plain": [
       "   Unnamed: 0                            Content ID  \\\n",
       "0           0  97522e57-d9ab-4bd6-97bf-c24d952602d2   \n",
       "1           1  97522e57-d9ab-4bd6-97bf-c24d952602d2   \n",
       "2           2  97522e57-d9ab-4bd6-97bf-c24d952602d2   \n",
       "3           3  97522e57-d9ab-4bd6-97bf-c24d952602d2   \n",
       "4           4  97522e57-d9ab-4bd6-97bf-c24d952602d2   \n",
       "\n",
       "                                User ID     Type             Datetime  \n",
       "0                                   NaN      NaN  2021-04-22 15:17:15  \n",
       "1  5d454588-283d-459d-915d-c48a2cb4c27f  disgust  2020-11-07 09:43:50  \n",
       "2  92b87fa5-f271-43e0-af66-84fac21052e6  dislike  2021-06-17 12:22:51  \n",
       "3  163daa38-8b77-48c9-9af6-37a6c1447ac2   scared  2021-04-18 05:13:58  \n",
       "4  34e8add9-0206-47fd-a501-037b994650a2  disgust  2021-01-06 19:13:01  "
      ]
     },
     "execution_count": 4,
     "metadata": {},
     "output_type": "execute_result"
    }
   ],
   "source": [
    "# load the Reaction data sets\n",
    "reaction = pd.read_csv(\"Reactions.csv\")\n",
    "\n",
    "# check the head the data set\n",
    "reaction.head()"
   ]
  },
  {
   "cell_type": "markdown",
   "id": "2ef3d47d",
   "metadata": {},
   "source": [
    "Before we proceed with our Cleaning , we can see that our data contained 5 columns, some of which are irrelevant to our analysis below are the Explaination of each column; \n",
    "\n",
    "* Unnamed: 0 : This column should be dropped as it is the index that came with our file and python read it as a column and has ssigned a new index for our datas.\n",
    "\n",
    "* Content ID: this is Useful in our Analysis as it Contained the unique ID for our content , and remember we are to Determine the Top 5 most Popular content, Hence, this Column should be kept.\n",
    "\n",
    "* User ID : This column is irrelevant to our analysis it contain the ID for each user , but we are *NOT* to determine Top 5 most popular cateegory based on User, Hence this column should be drop.\n",
    "\n",
    "* Type : This column contain The type of Contents we are go to do our Analysis on , so it should be Kept, But we need to change its name To \"Reaction Type\"  To avoid Confusion and to be same with \"Reaction Type\" in Reaction Type file.\n",
    "\n",
    "* Datetime : This Column is useful in our Analysis to check for month or year with the most post, so it should be kept and should be convert to pandas datetime format. \n"
   ]
  },
  {
   "cell_type": "code",
   "execution_count": 5,
   "id": "0405ab9f",
   "metadata": {},
   "outputs": [],
   "source": [
    "# Drop irrelevant columns \n",
    "reaction.drop([\"Unnamed: 0\",\"User ID\"], axis = 1,inplace = True)"
   ]
  },
  {
   "cell_type": "code",
   "execution_count": 6,
   "id": "4d88b3ab",
   "metadata": {},
   "outputs": [],
   "source": [
    "# change the name of Type column to Reaction Type\n",
    "\n",
    "reaction.rename(columns= {\"Type\":\"Reaction Type\"},inplace=True)"
   ]
  },
  {
   "cell_type": "code",
   "execution_count": 12,
   "id": "648697e5",
   "metadata": {},
   "outputs": [],
   "source": [
    "# Convert the datetime column to pandas Datatime format\n",
    "\n",
    "reaction[\"Datetime\"] = pd.to_datetime(reaction[\"Datetime\"])"
   ]
  },
  {
   "cell_type": "markdown",
   "id": "9b43abe4",
   "metadata": {},
   "source": [
    "Let's check if all our changes have been effected by checking the reaction head and check the type od Datetime column"
   ]
  },
  {
   "cell_type": "code",
   "execution_count": 13,
   "id": "6baaa7f9",
   "metadata": {},
   "outputs": [
    {
     "data": {
      "text/html": [
       "<div>\n",
       "<style scoped>\n",
       "    .dataframe tbody tr th:only-of-type {\n",
       "        vertical-align: middle;\n",
       "    }\n",
       "\n",
       "    .dataframe tbody tr th {\n",
       "        vertical-align: top;\n",
       "    }\n",
       "\n",
       "    .dataframe thead th {\n",
       "        text-align: right;\n",
       "    }\n",
       "</style>\n",
       "<table border=\"1\" class=\"dataframe\">\n",
       "  <thead>\n",
       "    <tr style=\"text-align: right;\">\n",
       "      <th></th>\n",
       "      <th>Content ID</th>\n",
       "      <th>Reaction Type</th>\n",
       "      <th>Datetime</th>\n",
       "    </tr>\n",
       "  </thead>\n",
       "  <tbody>\n",
       "    <tr>\n",
       "      <th>0</th>\n",
       "      <td>97522e57-d9ab-4bd6-97bf-c24d952602d2</td>\n",
       "      <td>NaN</td>\n",
       "      <td>2021-04-22 15:17:15</td>\n",
       "    </tr>\n",
       "    <tr>\n",
       "      <th>1</th>\n",
       "      <td>97522e57-d9ab-4bd6-97bf-c24d952602d2</td>\n",
       "      <td>disgust</td>\n",
       "      <td>2020-11-07 09:43:50</td>\n",
       "    </tr>\n",
       "    <tr>\n",
       "      <th>2</th>\n",
       "      <td>97522e57-d9ab-4bd6-97bf-c24d952602d2</td>\n",
       "      <td>dislike</td>\n",
       "      <td>2021-06-17 12:22:51</td>\n",
       "    </tr>\n",
       "    <tr>\n",
       "      <th>3</th>\n",
       "      <td>97522e57-d9ab-4bd6-97bf-c24d952602d2</td>\n",
       "      <td>scared</td>\n",
       "      <td>2021-04-18 05:13:58</td>\n",
       "    </tr>\n",
       "    <tr>\n",
       "      <th>4</th>\n",
       "      <td>97522e57-d9ab-4bd6-97bf-c24d952602d2</td>\n",
       "      <td>disgust</td>\n",
       "      <td>2021-01-06 19:13:01</td>\n",
       "    </tr>\n",
       "  </tbody>\n",
       "</table>\n",
       "</div>"
      ],
      "text/plain": [
       "                             Content ID Reaction Type            Datetime\n",
       "0  97522e57-d9ab-4bd6-97bf-c24d952602d2           NaN 2021-04-22 15:17:15\n",
       "1  97522e57-d9ab-4bd6-97bf-c24d952602d2       disgust 2020-11-07 09:43:50\n",
       "2  97522e57-d9ab-4bd6-97bf-c24d952602d2       dislike 2021-06-17 12:22:51\n",
       "3  97522e57-d9ab-4bd6-97bf-c24d952602d2        scared 2021-04-18 05:13:58\n",
       "4  97522e57-d9ab-4bd6-97bf-c24d952602d2       disgust 2021-01-06 19:13:01"
      ]
     },
     "execution_count": 13,
     "metadata": {},
     "output_type": "execute_result"
    }
   ],
   "source": [
    "reaction.head()"
   ]
  },
  {
   "cell_type": "code",
   "execution_count": 14,
   "id": "4cc9a003",
   "metadata": {},
   "outputs": [
    {
     "data": {
      "text/plain": [
       "pandas.core.series.Series"
      ]
     },
     "execution_count": 14,
     "metadata": {},
     "output_type": "execute_result"
    }
   ],
   "source": [
    "type(reaction[\"Datetime\"])"
   ]
  },
  {
   "cell_type": "markdown",
   "id": "d7b7208e",
   "metadata": {},
   "source": [
    "Next is to check for missing values and drop it if any"
   ]
  },
  {
   "cell_type": "code",
   "execution_count": 19,
   "id": "75995811",
   "metadata": {},
   "outputs": [
    {
     "data": {
      "text/plain": [
       "Content ID         0\n",
       "Datetime           0\n",
       "Reaction Type    980\n",
       "dtype: int64"
      ]
     },
     "execution_count": 19,
     "metadata": {},
     "output_type": "execute_result"
    }
   ],
   "source": [
    "## Check for Missing Values in the Data Set \n",
    "reaction.isna().sum().sort_values()"
   ]
  },
  {
   "cell_type": "markdown",
   "id": "cddd8383",
   "metadata": {},
   "source": [
    "Let's drop the rows with missing value in the Reaction Type Column"
   ]
  },
  {
   "cell_type": "code",
   "execution_count": 20,
   "id": "bd430460",
   "metadata": {},
   "outputs": [],
   "source": [
    "#Droping the rows with missing values in the Reaction Type column\n",
    "reaction.dropna(inplace = True)"
   ]
  },
  {
   "cell_type": "code",
   "execution_count": 21,
   "id": "c43aac92",
   "metadata": {},
   "outputs": [
    {
     "data": {
      "text/plain": [
       "Content ID       0\n",
       "Reaction Type    0\n",
       "Datetime         0\n",
       "dtype: int64"
      ]
     },
     "execution_count": 21,
     "metadata": {},
     "output_type": "execute_result"
    }
   ],
   "source": [
    "# check if we have effectively dropped the Missing values \n",
    "reaction.isna().sum().sort_values()"
   ]
  },
  {
   "cell_type": "markdown",
   "id": "763243c8",
   "metadata": {},
   "source": [
    "Ok, that's nice\n",
    "\n",
    "Let's check the value counts of the Reaction Type column"
   ]
  },
  {
   "cell_type": "code",
   "execution_count": 23,
   "id": "4660059d",
   "metadata": {},
   "outputs": [
    {
     "data": {
      "text/plain": [
       "heart          1622\n",
       "scared         1572\n",
       "peeking        1559\n",
       "hate           1552\n",
       "interested     1549\n",
       "dislike        1548\n",
       "adore          1548\n",
       "want           1539\n",
       "love           1534\n",
       "disgust        1526\n",
       "like           1520\n",
       "super love     1519\n",
       "indifferent    1512\n",
       "cherish        1501\n",
       "worried        1497\n",
       "intrigued      1475\n",
       "Name: Reaction Type, dtype: int64"
      ]
     },
     "execution_count": 23,
     "metadata": {},
     "output_type": "execute_result"
    }
   ],
   "source": [
    "reaction[\"Reaction Type\"].value_counts()"
   ]
  },
  {
   "cell_type": "markdown",
   "id": "a850ef0c",
   "metadata": {},
   "source": [
    "Looks like our reaction file is cleaned and ready for Analysis.\n",
    "\n",
    "Let's save it as acsv file"
   ]
  },
  {
   "cell_type": "code",
   "execution_count": 24,
   "id": "a3c50b41",
   "metadata": {},
   "outputs": [],
   "source": [
    "reaction.to_csv(\"Cleaned Reaction.csv\")"
   ]
  },
  {
   "cell_type": "code",
   "execution_count": null,
   "id": "1c422793",
   "metadata": {},
   "outputs": [],
   "source": []
  }
 ],
 "metadata": {
  "kernelspec": {
   "display_name": "Python 3 (ipykernel)",
   "language": "python",
   "name": "python3"
  },
  "language_info": {
   "codemirror_mode": {
    "name": "ipython",
    "version": 3
   },
   "file_extension": ".py",
   "mimetype": "text/x-python",
   "name": "python",
   "nbconvert_exporter": "python",
   "pygments_lexer": "ipython3",
   "version": "3.11.3"
  }
 },
 "nbformat": 4,
 "nbformat_minor": 5
}
